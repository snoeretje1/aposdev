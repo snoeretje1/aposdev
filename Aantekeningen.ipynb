{
 "cells": [
  {
   "attachments": {},
   "cell_type": "markdown",
   "metadata": {},
   "source": [
    "apos add <typemodule> <modulemap>"
   ]
  },
  {
   "attachments": {},
   "cell_type": "markdown",
   "metadata": {},
   "source": [
    "Sjabloon voor nieuwe pagina type\n",
    "// modules/default-page/index.js\n",
    "module.exports = {\n",
    "  extend: '@apostrophecms/page-type',\n",
    "  fields: {\n",
    "    add: {\n",
    "      subtitle: {\n",
    "        type: 'string'\n",
    "      },\n",
    "      main: {\n",
    "        type: 'area',\n",
    "        options: {\n",
    "          widgets: {\n",
    "            '@apostrophecms/rich-text': {},\n",
    "            '@apostrophecms/image': {}\n",
    "          }\n",
    "        }\n",
    "      }\n",
    "    },\n",
    "    group: {\n",
    "      basics: {\n",
    "        fields: ['title', 'subtitle', 'main']\n",
    "      }\n",
    "    }\n",
    "  }\n",
    "};\n"
   ]
  },
  {
   "attachments": {},
   "cell_type": "markdown",
   "metadata": {},
   "source": [
    "Pagina dats is op data.page.veld \n",
    "gebruik {{data.page.veld}} op dit te printen \n",
    "\n",
    "{%if data.page.veld%} gebruiken voor een if voorwaarde \n",
    "dan print \n",
    "dan if afsluiten met {%endif%}\n",
    "apos.log(data.page) geeft aan wat er mogelijke is in terminal \n",
    "\n",
    "{% area data.page, 'widget veld' %} voor gebruik van invullen widgets \n",
    "\n",
    "\n"
   ]
  },
  {
   "attachments": {},
   "cell_type": "markdown",
   "metadata": {},
   "source": [
    "Widget toevoegen met apos add widget <widgetname>"
   ]
  }
 ],
 "metadata": {
  "language_info": {
   "name": "python"
  },
  "orig_nbformat": 4
 },
 "nbformat": 4,
 "nbformat_minor": 2
}
