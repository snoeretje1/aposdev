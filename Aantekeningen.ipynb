{
 "cells": [
  {
   "attachments": {},
   "cell_type": "markdown",
   "metadata": {},
   "source": [
    "apos add <typemodule> <modulemap>"
   ]
  },
  {
   "attachments": {},
   "cell_type": "markdown",
   "metadata": {},
   "source": [
    "Sjabloon voor nieuwe pagina type\n",
    "// modules/default-page/index.js\n",
    "module.exports = {\n",
    "  extend: '@apostrophecms/page-type',\n",
    "  fields: {\n",
    "    add: {\n",
    "      subtitle: {\n",
    "        type: 'string'\n",
    "      },\n",
    "      main: {\n",
    "        type: 'area',\n",
    "        options: {\n",
    "          widgets: {\n",
    "            '@apostrophecms/rich-text': {},\n",
    "            '@apostrophecms/image': {}\n",
    "          }\n",
    "        }\n",
    "      }\n",
    "    },\n",
    "    group: {\n",
    "      basics: {\n",
    "        fields: ['title', 'subtitle', 'main']\n",
    "      }\n",
    "    }\n",
    "  }\n",
    "};\n"
   ]
  },
  {
   "attachments": {},
   "cell_type": "markdown",
   "metadata": {},
   "source": [
    "Pagina dats is op data.page.veld \n",
    "gebruik {{data.page.veld}} op dit te printen \n",
    "\n",
    "{%if data.page.veld%} gebruiken voor een if voorwaarde \n",
    "dan print \n",
    "dan if afsluiten met {%endif%}\n",
    "apos.log(data.page) geeft aan wat er mogelijke is in terminal \n",
    "\n",
    "{% area data.page, 'widget veld' %} voor gebruik van invullen widgets \n",
    "\n",
    "\n"
   ]
  },
  {
   "attachments": {},
   "cell_type": "markdown",
   "metadata": {},
   "source": [
    "startHead\tA block at the beginning of the head tag for inserting metadata tags.\n",
    "\n",
    "title\tThe contents of the title tag. This defaults to using the title of the page or piece (for show pages).\n",
    "\n",
    "extraHead\tA block at the end of the head tag for inserting metadata tags.\n",
    "\n",
    "bodyClass\tA block in the body tag's class attribute for adding a class for when that template \n",
    "is used.\n",
    "\n",
    "beforeMain\tA block before the main content block. Usually used for the website header.\n",
    "\n",
    "main\tThe primary block for page content. Most page template markup goes inside main.\n",
    "\n",
    "afterMain\tA block after the main content block. Usually used for the website footer.\n",
    "\n",
    "extraBody\tA block at the end of the body tag."
   ]
  }
 ],
 "metadata": {
  "language_info": {
   "name": "python"
  },
  "orig_nbformat": 4
 },
 "nbformat": 4,
 "nbformat_minor": 2
}
